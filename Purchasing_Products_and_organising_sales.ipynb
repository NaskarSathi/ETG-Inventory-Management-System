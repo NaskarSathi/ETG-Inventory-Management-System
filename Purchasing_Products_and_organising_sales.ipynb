{
  "nbformat": 4,
  "nbformat_minor": 0,
  "metadata": {
    "colab": {
      "name": "Untitled2.ipynb",
      "provenance": []
    },
    "kernelspec": {
      "name": "python3",
      "display_name": "Python 3"
    },
    "language_info": {
      "name": "python"
    }
  },
  "cells": [
    {
      "cell_type": "code",
      "metadata": {
        "id": "f3d94tw97rUc"
      },
      "source": [
        "record = { 131001 : { \"Product_name\" : \"Rice\", \"Quantity\" : 100, \"Price\" : 150, \"mfg\": \"1-1-2021\", \"exp\": \"1-1-2023\"},\n",
        "           131002 : { \"Product_name\" : \"Cake\", \"Quantity\" : 100, \"Price\" : 250, \"mfg\": \"1-1-2022\", \"exp\": \"1-1-2023\"},\n",
        "           131003 : { \"Product_name\" : \"Card\", \"Quantity\" : 100, \"Price\" : 50, \"mfg\": \"2-1-2021\", \"exp\": \"1-1-2024\"},\n",
        "           131004 : { \"Product_name\" : \"Tea\", \"Quantity\" : 100, \"Price\" : 130, \"mfg\": \"1-3-2021\", \"exp\": \"1-1-2023\"},\n",
        "           131005 : { \"Product_name\" : \"Sugar\", \"Quantity\" : 100, \"Price\" : 170, \"mfg\": \"4-1-2021\", \"exp\": \"1-1-2023\"},\n",
        "           131006 : { \"Product_name\" : \"Wine\", \"Quantity\" : 100, \"Price\" : 450, \"mfg\": \"1-5-2021\", \"exp\": \"1-1-2023\"},\n",
        "           131007 : { \"Product_name\" : \"Horlicks\", \"Quantity\" : 100, \"Price\" : 154, \"mfg\": \"12-1-2021\", \"exp\": \"1-1-2027\"},\n",
        "           131008 : { \"Product_name\" : \"Coffee\", \"Quantity\" : 100, \"Price\" : 250, \"mfg\": \"18-1-2021\", \"exp\": \"1-1-2023\"},\n",
        "           131009 : { \"Product_name\" : \"Turmeric Powder\", \"Quantity\" : 100, \"Price\" : 10, \"mfg\": \"10-1-2021\", \"exp\": \"1-1-2023\"},\n",
        "           131010 : { \"Product_name\" : \"Milk\", \"Quantity\" : 100, \"Price\" : 70, \"mfg\": \"1-10-2021\", \"exp\": \"1-1-2024\"},\n",
        "           131011 : { \"Product_name\" : \"Liquid Soap\", \"Quantity\" : 100, \"Price\" : 80, \"mfg\": \"14-1-2021\", \"exp\": \"1-1-2023\"},\n",
        "           131012 : { \"Product_name\" : \"Dish Wash\", \"Quantity\" : 100, \"Price\" : 30, \"mfg\": \"1-11-2021\", \"exp\": \"1-1-2022\"},\n",
        "           131013 : { \"Product_name\" : \"Chocolates\", \"Quantity\" : 100, \"Price\" : 140, \"mfg\": \"21-1-2021\", \"exp\": \"1-1-2023\"},\n",
        "           131014 : { \"Product_name\" : \"Dal\", \"Quantity\" : 100, \"Price\" : 90, \"mfg\": \"1-9-2021\", \"exp\": \"1-1-2023\"},\n",
        "           131015 : { \"Product_name\" : \"Jerra\", \"Quantity\" : 100, \"Price\" : 180, \"mfg\": \"13-1-2021\", \"exp\": \"1-1-2025\"},\n",
        "           131016 : { \"Product_name\" : \"Chilly Flex\", \"Quantity\" : 100, \"Price\" : 15, \"mfg\": \"19-1-2021\", \"exp\": \"1-1-2028\"},\n",
        "           131017 : { \"Product_name\" : \"Peper\", \"Quantity\" : 100, \"Price\" : 120, \"mfg\": \"1-10-2021\", \"exp\": \"1-1-2023\"},\n",
        "           131018 : { \"Product_name\" : \"Pasta\", \"Quantity\" : 100, \"Price\" : 170, \"mfg\": \"15-1-2021\", \"exp\": \"1-1-2023\"},\n",
        "           131019 : { \"Product_name\" : \"Noddles\", \"Quantity\" : 100, \"Price\" : 30, \"mfg\": \"21-1-2021\", \"exp\": \"1-1-2023\"},\n",
        "           131020 : { \"Product_name\" : \"Oats\", \"Quantity\" : 100, \"Price\" : 60, \"mfg\": \"31-1-2021\", \"exp\": \"1-1-2023\"},\n",
        "           131021 : { \"Product_name\" : \"Soya Souce\", \"Quantity\" : 100, \"Price\" : 65, \"mfg\": \"20-1-2021\", \"exp\": \"1-1-2022\"},\n",
        "           131022 : { \"Product_name\" : \"Cashew\", \"Quantity\" : 100, \"Price\" : 152, \"mfg\": \"16-1-2021\", \"exp\": \"1-1-2023\"},\n",
        "           131023 : { \"Product_name\" : \"Almond\", \"Quantity\" : 100, \"Price\" : 145, \"mfg\": \"14-1-2021\", \"exp\": \"1-1-2023\"},\n",
        "           131024 : { \"Product_name\" : \"Wheat\", \"Quantity\" : 100, \"Price\" : 158, \"mfg\": \"13-1-2021\", \"exp\": \"1-1-2023\"}, \n",
        "           131025 : { \"Product_name\" : \"Cumin\", \"Quantity\" : 100, \"Price\" : 185, \"mfg\": \"15-1-2021\", \"exp\": \"1-1-2025\"},\n",
        "           131026 : { \"Product_name\" : \"Jam\", \"Quantity\" : 100, \"Price\" : 123, \"mfg\": \"17-1-2021\", \"exp\": \"1-1-2025\"},\n",
        "           131027 : { \"Product_name\" : \"Burbon\", \"Quantity\" : 100, \"Price\" : 145, \"mfg\": \"1-10-2021\", \"exp\": \"1-1-2024\"},\n",
        "           131028 : { \"Product_name\" : \"Apple Juice\", \"Quantity\" : 100, \"Price\" : 210, \"mfg\": \"12-1-2021\", \"exp\": \"1-1-2023\"},\n",
        "           131029 : { \"Product_name\" : \"Butter\", \"Quantity\" : 100, \"Price\" : 170,\"mfg\": \"1-10-2021\", \"exp\": \"1-1-2024\"},\n",
        "          }"
      ],
      "execution_count": 42,
      "outputs": []
    },
    {
      "cell_type": "markdown",
      "metadata": {
        "id": "zx6tej1b7wuj"
      },
      "source": [
        "# Read Inventory"
      ]
    },
    {
      "cell_type": "code",
      "metadata": {
        "id": "YDty8QIC70Md"
      },
      "source": [
        "import json\n",
        "js=json.dumps(record)\n",
        "\n",
        "fd = open(\"record json\", 'w')\n",
        "fd.write(js)\n",
        "fd.close()"
      ],
      "execution_count": 43,
      "outputs": []
    },
    {
      "cell_type": "markdown",
      "metadata": {
        "id": "pVoxLHo477xa"
      },
      "source": [
        "# Item Purchased"
      ]
    },
    {
      "cell_type": "code",
      "metadata": {
        "colab": {
          "base_uri": "https://localhost:8080/"
        },
        "id": "MlNFtDqw7_MC",
        "outputId": "84b9ca22-7411-4e65-9985-8c8760236e56"
      },
      "source": [
        "print(\"Check the items: \",record)\n",
        "print(\"_________________________________________________________________________________________\")\n",
        "reg=int(input(\"Enter the product ID: \"))\n",
        "qty=int(input(\"Enter the quantity: \"))\n",
        "\n",
        "if(reg in record):\n",
        "      print(\"B I L L\")\n",
        "      print(\"Product_name: \",record[reg]['Product_name'])\n",
        "      print(\"Price: \",record[reg]['Price'])\n",
        "      print(\"Quantity\",qty)\n",
        "      print(\"*****************************************\")\n",
        "      print(\"*****************************************\")\n",
        "      print(\"Total price: \", record[reg]['Price']*qty)\n",
        "      \n",
        "else:\n",
        "  print(\"Check the list! Enter the correct id.\")"
      ],
      "execution_count": 44,
      "outputs": [
        {
          "output_type": "stream",
          "name": "stdout",
          "text": [
            "Check the items:  {131001: {'Product_name': 'Rice', 'Quantity': 100, 'Price': 150, 'mfg': '1-1-2021', 'exp': '1-1-2023'}, 131002: {'Product_name': 'Cake', 'Quantity': 100, 'Price': 250, 'mfg': '1-1-2022', 'exp': '1-1-2023'}, 131003: {'Product_name': 'Card', 'Quantity': 100, 'Price': 50, 'mfg': '2-1-2021', 'exp': '1-1-2024'}, 131004: {'Product_name': 'Tea', 'Quantity': 100, 'Price': 130, 'mfg': '1-3-2021', 'exp': '1-1-2023'}, 131005: {'Product_name': 'Sugar', 'Quantity': 100, 'Price': 170, 'mfg': '4-1-2021', 'exp': '1-1-2023'}, 131006: {'Product_name': 'Wine', 'Quantity': 100, 'Price': 450, 'mfg': '1-5-2021', 'exp': '1-1-2023'}, 131007: {'Product_name': 'Horlicks', 'Quantity': 100, 'Price': 154, 'mfg': '12-1-2021', 'exp': '1-1-2027'}, 131008: {'Product_name': 'Coffee', 'Quantity': 100, 'Price': 250, 'mfg': '18-1-2021', 'exp': '1-1-2023'}, 131009: {'Product_name': 'Turmeric Powder', 'Quantity': 100, 'Price': 10, 'mfg': '10-1-2021', 'exp': '1-1-2023'}, 131010: {'Product_name': 'Milk', 'Quantity': 100, 'Price': 70, 'mfg': '1-10-2021', 'exp': '1-1-2024'}, 131011: {'Product_name': 'Liquid Soap', 'Quantity': 100, 'Price': 80, 'mfg': '14-1-2021', 'exp': '1-1-2023'}, 131012: {'Product_name': 'Dish Wash', 'Quantity': 100, 'Price': 30, 'mfg': '1-11-2021', 'exp': '1-1-2022'}, 131013: {'Product_name': 'Chocolates', 'Quantity': 100, 'Price': 140, 'mfg': '21-1-2021', 'exp': '1-1-2023'}, 131014: {'Product_name': 'Dal', 'Quantity': 100, 'Price': 90, 'mfg': '1-9-2021', 'exp': '1-1-2023'}, 131015: {'Product_name': 'Jerra', 'Quantity': 100, 'Price': 180, 'mfg': '13-1-2021', 'exp': '1-1-2025'}, 131016: {'Product_name': 'Chilly Flex', 'Quantity': 100, 'Price': 15, 'mfg': '19-1-2021', 'exp': '1-1-2028'}, 131017: {'Product_name': 'Peper', 'Quantity': 100, 'Price': 120, 'mfg': '1-10-2021', 'exp': '1-1-2023'}, 131018: {'Product_name': 'Pasta', 'Quantity': 100, 'Price': 170, 'mfg': '15-1-2021', 'exp': '1-1-2023'}, 131019: {'Product_name': 'Noddles', 'Quantity': 100, 'Price': 30, 'mfg': '21-1-2021', 'exp': '1-1-2023'}, 131020: {'Product_name': 'Oats', 'Quantity': 100, 'Price': 60, 'mfg': '31-1-2021', 'exp': '1-1-2023'}, 131021: {'Product_name': 'Soya Souce', 'Quantity': 100, 'Price': 65, 'mfg': '20-1-2021', 'exp': '1-1-2022'}, 131022: {'Product_name': 'Cashew', 'Quantity': 100, 'Price': 152, 'mfg': '16-1-2021', 'exp': '1-1-2023'}, 131023: {'Product_name': 'Almond', 'Quantity': 100, 'Price': 145, 'mfg': '14-1-2021', 'exp': '1-1-2023'}, 131024: {'Product_name': 'Wheat', 'Quantity': 100, 'Price': 158, 'mfg': '13-1-2021', 'exp': '1-1-2023'}, 131025: {'Product_name': 'Cumin', 'Quantity': 100, 'Price': 185, 'mfg': '15-1-2021', 'exp': '1-1-2025'}, 131026: {'Product_name': 'Jam', 'Quantity': 100, 'Price': 123, 'mfg': '17-1-2021', 'exp': '1-1-2025'}, 131027: {'Product_name': 'Burbon', 'Quantity': 100, 'Price': 145, 'mfg': '1-10-2021', 'exp': '1-1-2024'}, 131028: {'Product_name': 'Apple Juice', 'Quantity': 100, 'Price': 210, 'mfg': '12-1-2021', 'exp': '1-1-2023'}, 131029: {'Product_name': 'Butter', 'Quantity': 100, 'Price': 170, 'mfg': '1-10-2021', 'exp': '1-1-2024'}}\n",
            "_________________________________________________________________________________________\n",
            "Enter the product ID: 131004\n",
            "Enter the quantity: 10\n",
            "B I L L\n",
            "Product_name:  Tea\n",
            "Price:  130\n",
            "Quantity 10\n",
            "*****************************************\n",
            "*****************************************\n",
            "Total price:  1300\n"
          ]
        }
      ]
    },
    {
      "cell_type": "markdown",
      "metadata": {
        "id": "DmQ8JBd08Nnz"
      },
      "source": [
        "# Inventory after purchased"
      ]
    },
    {
      "cell_type": "code",
      "metadata": {
        "id": "n7yslrbO8IQV"
      },
      "source": [
        "js = json.dumps(record)\n",
        "\n",
        "fd = open(\"record.json\",'w')\n",
        "fd.write(js)\n",
        "fd.close()"
      ],
      "execution_count": 45,
      "outputs": []
    },
    {
      "cell_type": "markdown",
      "metadata": {
        "id": "mZVxH9Sj8lDt"
      },
      "source": [
        "# Sales JSON"
      ]
    },
    {
      "cell_type": "code",
      "metadata": {
        "colab": {
          "base_uri": "https://localhost:8080/"
        },
        "id": "gw8f99UK8rAe",
        "outputId": "c77ef262-f958-46c4-9079-f3576e8c44f9"
      },
      "source": [
        "{'Product_ID': reg, 'Qty': qty, 'Amt':record[reg]['Price'] * qty}"
      ],
      "execution_count": 46,
      "outputs": [
        {
          "output_type": "execute_result",
          "data": {
            "text/plain": [
              "{'Amt': 1300, 'Product_ID': 131004, 'Qty': 10}"
            ]
          },
          "metadata": {},
          "execution_count": 46
        }
      ]
    },
    {
      "cell_type": "code",
      "metadata": {
        "colab": {
          "base_uri": "https://localhost:8080/"
        },
        "id": "JA8Fq3rF83Ld",
        "outputId": "9971b969-1b84-4442-83d5-137f64b58806"
      },
      "source": [
        "reg2=int(input(\"Enter the product ID: \"))\n",
        "qty2=int(input(\"Enter the quantity: \"))\n",
        "\n",
        "if(reg in record):\n",
        "      print(\"B I L L\")\n",
        "      print(\"Product_name: \",record[reg2]['Product_name'])\n",
        "      print(\"Price: \",record[reg2]['Price'])\n",
        "      print(\"Quantity\",qty)\n",
        "      print(\"*****************************************\")\n",
        "      print(\"*****************************************\")\n",
        "      print(\"Total price: \", record[reg2]['Price']*qty2)\n",
        "      \n",
        "else:\n",
        "  print(\"Check the list! Enter the correct id.\")\n",
        "  "
      ],
      "execution_count": 49,
      "outputs": [
        {
          "output_type": "stream",
          "name": "stdout",
          "text": [
            "Enter the product ID: 131005\n",
            "Enter the quantity: 10\n",
            "B I L L\n",
            "Product_name:  Sugar\n",
            "Price:  170\n",
            "Quantity 10\n",
            "*****************************************\n",
            "*****************************************\n",
            "Total price:  1700\n"
          ]
        }
      ]
    },
    {
      "cell_type": "code",
      "metadata": {
        "colab": {
          "base_uri": "https://localhost:8080/"
        },
        "id": "G1DVtBw59FLl",
        "outputId": "190a4166-368e-4ce8-b85c-13bf235abbcf"
      },
      "source": [
        "{'Product_ID_2': reg2, 'Qty_2': qty2, 'Amt_2':record[reg2]['Price'] * qty2}"
      ],
      "execution_count": 50,
      "outputs": [
        {
          "output_type": "execute_result",
          "data": {
            "text/plain": [
              "{'Amt_2': 1700, 'Product_ID_2': 131005, 'Qty_2': 10}"
            ]
          },
          "metadata": {},
          "execution_count": 50
        }
      ]
    },
    {
      "cell_type": "code",
      "metadata": {
        "colab": {
          "base_uri": "https://localhost:8080/"
        },
        "id": "V-Li-Fei9JKv",
        "outputId": "09bd31d9-54e2-4875-a7c7-86703c987a47"
      },
      "source": [
        "reg3=int(input(\"Enter the product ID: \"))\n",
        "qty3=int(input(\"Enter the quantity: \"))\n",
        "\n",
        "if(reg in record):\n",
        "      print(\"B I L L\")\n",
        "      print(\"Product_name: \",record[reg3]['Product_name'])\n",
        "      print(\"Price: \",record[reg3]['Price'])\n",
        "      print(\"Quantity\",qty)\n",
        "      print(\"*****************************************\")\n",
        "      print(\"*****************************************\")\n",
        "      print(\"Total price: \", record[reg3]['Price']*qty3)\n",
        "      \n",
        "else:\n",
        "  print(\"Check the list! Enter the correct id.\")\n",
        "\n"
      ],
      "execution_count": 51,
      "outputs": [
        {
          "output_type": "stream",
          "name": "stdout",
          "text": [
            "Enter the product ID: 131006\n",
            "Enter the quantity: 10\n",
            "B I L L\n",
            "Product_name:  Wine\n",
            "Price:  450\n",
            "Quantity 10\n",
            "*****************************************\n",
            "*****************************************\n",
            "Total price:  4500\n"
          ]
        }
      ]
    },
    {
      "cell_type": "code",
      "metadata": {
        "colab": {
          "base_uri": "https://localhost:8080/"
        },
        "id": "t0j86oXp9R1H",
        "outputId": "35360677-a7a2-48b2-a9d0-bb4e2cd8d08c"
      },
      "source": [
        "{'Product_ID_3': reg3, 'Qty_3': qty3, 'Amt_3':record[reg3]['Price'] * qty3}"
      ],
      "execution_count": 52,
      "outputs": [
        {
          "output_type": "execute_result",
          "data": {
            "text/plain": [
              "{'Amt_3': 4500, 'Product_ID_3': 131006, 'Qty_3': 10}"
            ]
          },
          "metadata": {},
          "execution_count": 52
        }
      ]
    },
    {
      "cell_type": "code",
      "metadata": {
        "id": "BG9Imw9h9Vj9"
      },
      "source": [
        "sales = {1 : {'Product_ID' : reg, 'qn' : qty, 'amount': record[reg]['Price'] * qty},\n",
        "         2 : {'Product_ID_2' : reg2, 'qn_2' : qty2, 'amount_2': record[reg2]['Price'] * qty2},\n",
        "         3 : {'Product_ID_3' : reg3, 'qn_3' : qty3, 'amount_3': record[reg3]['Price'] * qty3}}"
      ],
      "execution_count": 53,
      "outputs": []
    },
    {
      "cell_type": "code",
      "metadata": {
        "colab": {
          "base_uri": "https://localhost:8080/"
        },
        "id": "kGkf_wlZ9but",
        "outputId": "321ba331-fa32-4022-bc4c-4e7137f7a8f1"
      },
      "source": [
        "sales"
      ],
      "execution_count": 54,
      "outputs": [
        {
          "output_type": "execute_result",
          "data": {
            "text/plain": [
              "{1: {'Product_ID': 131004, 'amount': 1300, 'qn': 10},\n",
              " 2: {'Product_ID_2': 131005, 'amount_2': 1700, 'qn_2': 10},\n",
              " 3: {'Product_ID_3': 131006, 'amount_3': 4500, 'qn_3': 10}}"
            ]
          },
          "metadata": {},
          "execution_count": 54
        }
      ]
    },
    {
      "cell_type": "code",
      "metadata": {
        "id": "x74_CZCY9eEm"
      },
      "source": [
        "import json\n",
        "js=json.dumps(sales)"
      ],
      "execution_count": 55,
      "outputs": []
    },
    {
      "cell_type": "code",
      "metadata": {
        "id": "1mllUHaf9lg6"
      },
      "source": [
        "fd = open('sales.json','w')\n",
        "t=fd.write(js)\n",
        "fd.close()"
      ],
      "execution_count": 56,
      "outputs": []
    },
    {
      "cell_type": "code",
      "metadata": {
        "id": "stNtXv_9-iPD"
      },
      "source": [
        "from google.colab import drive\n",
        "drive.mount('/content/drive')"
      ],
      "execution_count": null,
      "outputs": []
    }
  ]
}
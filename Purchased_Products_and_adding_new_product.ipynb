{
  "nbformat": 4,
  "nbformat_minor": 0,
  "metadata": {
    "colab": {
      "name": "Untitled4.ipynb",
      "provenance": []
    },
    "kernelspec": {
      "name": "python3",
      "display_name": "Python 3"
    },
    "language_info": {
      "name": "python"
    }
  },
  "cells": [
    {
      "cell_type": "code",
      "metadata": {
        "id": "oFqQvR7LK_Kb"
      },
      "source": [
        "record = { 131001 : { \"Product_name\" : \"Rice\", \"Quantity\" : 100, \"Price\" : 150, \"mfg\": \"1-1-2021\", \"exp\": \"1-1-2023\"},\n",
        "           131002 : { \"Product_name\" : \"Cake\", \"Quantity\" : 100, \"Price\" : 250, \"mfg\": \"1-1-2022\", \"exp\": \"1-1-2023\"},\n",
        "           131003 : { \"Product_name\" : \"Card\", \"Quantity\" : 100, \"Price\" : 50, \"mfg\": \"2-1-2021\", \"exp\": \"1-1-2024\"},\n",
        "           131004 : { \"Product_name\" : \"Tea\", \"Quantity\" : 100, \"Price\" : 130, \"mfg\": \"1-3-2021\", \"exp\": \"1-1-2023\"},\n",
        "           131005 : { \"Product_name\" : \"Sugar\", \"Quantity\" : 100, \"Price\" : 170, \"mfg\": \"4-1-2021\", \"exp\": \"1-1-2023\"},\n",
        "           131006 : { \"Product_name\" : \"Wine\", \"Quantity\" : 100, \"Price\" : 450, \"mfg\": \"1-5-2021\", \"exp\": \"1-1-2023\"},\n",
        "           131007 : { \"Product_name\" : \"Horlicks\", \"Quantity\" : 100, \"Price\" : 154, \"mfg\": \"12-1-2021\", \"exp\": \"1-1-2027\"},\n",
        "           131008 : { \"Product_name\" : \"Coffee\", \"Quantity\" : 100, \"Price\" : 250, \"mfg\": \"18-1-2021\", \"exp\": \"1-1-2023\"},\n",
        "           131009 : { \"Product_name\" : \"Turmeric Powder\", \"Quantity\" : 100, \"Price\" : 10, \"mfg\": \"10-1-2021\", \"exp\": \"1-1-2023\"},\n",
        "           131010 : { \"Product_name\" : \"Milk\", \"Quantity\" : 100, \"Price\" : 70, \"mfg\": \"1-10-2021\", \"exp\": \"1-1-2024\"},\n",
        "           131011 : { \"Product_name\" : \"Liquid Soap\", \"Quantity\" : 100, \"Price\" : 80, \"mfg\": \"14-1-2021\", \"exp\": \"1-1-2023\"},\n",
        "           131012 : { \"Product_name\" : \"Dish Wash\", \"Quantity\" : 100, \"Price\" : 30, \"mfg\": \"1-11-2021\", \"exp\": \"1-1-2022\"},\n",
        "           131013 : { \"Product_name\" : \"Chocolates\", \"Quantity\" : 100, \"Price\" : 140, \"mfg\": \"21-1-2021\", \"exp\": \"1-1-2023\"},\n",
        "           131014 : { \"Product_name\" : \"Dal\", \"Quantity\" : 100, \"Price\" : 90, \"mfg\": \"1-9-2021\", \"exp\": \"1-1-2023\"},\n",
        "           131015 : { \"Product_name\" : \"Jerra\", \"Quantity\" : 100, \"Price\" : 180, \"mfg\": \"13-1-2021\", \"exp\": \"1-1-2025\"},\n",
        "           131016 : { \"Product_name\" : \"Chilly Flex\", \"Quantity\" : 100, \"Price\" : 15, \"mfg\": \"19-1-2021\", \"exp\": \"1-1-2028\"},\n",
        "           131017 : { \"Product_name\" : \"Peper\", \"Quantity\" : 100, \"Price\" : 120, \"mfg\": \"1-10-2021\", \"exp\": \"1-1-2023\"},\n",
        "           131018 : { \"Product_name\" : \"Pasta\", \"Quantity\" : 100, \"Price\" : 170, \"mfg\": \"15-1-2021\", \"exp\": \"1-1-2023\"},\n",
        "           131019 : { \"Product_name\" : \"Noddles\", \"Quantity\" : 100, \"Price\" : 30, \"mfg\": \"21-1-2021\", \"exp\": \"1-1-2023\"},\n",
        "           131020 : { \"Product_name\" : \"Oats\", \"Quantity\" : 100, \"Price\" : 60, \"mfg\": \"31-1-2021\", \"exp\": \"1-1-2023\"},\n",
        "           131021 : { \"Product_name\" : \"Soya Souce\", \"Quantity\" : 100, \"Price\" : 65, \"mfg\": \"20-1-2021\", \"exp\": \"1-1-2022\"},\n",
        "           131022 : { \"Product_name\" : \"Cashew\", \"Quantity\" : 100, \"Price\" : 152, \"mfg\": \"16-1-2021\", \"exp\": \"1-1-2023\"},\n",
        "           131023 : { \"Product_name\" : \"Almond\", \"Quantity\" : 100, \"Price\" : 145, \"mfg\": \"14-1-2021\", \"exp\": \"1-1-2023\"},\n",
        "           131024 : { \"Product_name\" : \"Wheat\", \"Quantity\" : 100, \"Price\" : 158, \"mfg\": \"13-1-2021\", \"exp\": \"1-1-2023\"}, \n",
        "           131025 : { \"Product_name\" : \"Cumin\", \"Quantity\" : 100, \"Price\" : 185, \"mfg\": \"15-1-2021\", \"exp\": \"1-1-2025\"},\n",
        "           131026 : { \"Product_name\" : \"Jam\", \"Quantity\" : 100, \"Price\" : 123, \"mfg\": \"17-1-2021\", \"exp\": \"1-1-2025\"},\n",
        "           131027 : { \"Product_name\" : \"Burbon\", \"Quantity\" : 100, \"Price\" : 145, \"mfg\": \"1-10-2021\", \"exp\": \"1-1-2024\"},\n",
        "           131028 : { \"Product_name\" : \"Apple Juice\", \"Quantity\" : 100, \"Price\" : 210, \"mfg\": \"12-1-2021\", \"exp\": \"1-1-2023\"},\n",
        "           131029 : { \"Product_name\" : \"Butter\", \"Quantity\" : 100, \"Price\" : 170,\"mfg\": \"1-10-2021\", \"exp\": \"1-1-2024\"},\n",
        "          }"
      ],
      "execution_count": 1,
      "outputs": []
    },
    {
      "cell_type": "markdown",
      "metadata": {
        "id": "GO3xLt1FLLJD"
      },
      "source": [
        "# Read Inventory"
      ]
    },
    {
      "cell_type": "code",
      "metadata": {
        "id": "KO1hNtv1LOkC"
      },
      "source": [
        "import json\n",
        "js=json.dumps(record)\n",
        "\n",
        "fd=open('record.json','w')\n",
        "fd.write(js)\n",
        "fd.close()"
      ],
      "execution_count": 4,
      "outputs": []
    },
    {
      "cell_type": "code",
      "metadata": {
        "id": "WmhYRiukLb5e"
      },
      "source": [
        "fd = open('record.json','r')\n",
        "txt=fd.read()\n",
        "fd.close()"
      ],
      "execution_count": 5,
      "outputs": []
    },
    {
      "cell_type": "markdown",
      "metadata": {
        "id": "vHfcnF75Mg53"
      },
      "source": [
        "# Item Purchased"
      ]
    },
    {
      "cell_type": "code",
      "metadata": {
        "colab": {
          "base_uri": "https://localhost:8080/"
        },
        "id": "v5B6t5SiMmLl",
        "outputId": "48eb0100-e031-4d03-d3b8-a718e6dd1fd9"
      },
      "source": [
        "import time\n",
        "print(\"Check the items: \",record)\n",
        "print(\"_________________________________________________________________________________________\")\n",
        "reg=int(input(\"Enter the product ID: \"))\n",
        "qty=int(input(\"Enter the quantity: \"))\n",
        "\n",
        "if(reg in record):\n",
        "      print(\"B I L L\")\n",
        "      time.ctime()\n",
        "      time.ctime()\n",
        "      print(\"Product_name: \",record[reg]['Product_name'])\n",
        "      print(\"Price: \",record[reg]['Price'])\n",
        "      print(\"Quantity\",qty)\n",
        "      print(\"*****************************************\")\n",
        "      print(\"*****************************************\")\n",
        "      print(\"Total price: \", record[reg]['Price']*qty)\n",
        "     \n",
        "else:\n",
        "  print(\"Check the list! Enter the correct id.\")"
      ],
      "execution_count": 6,
      "outputs": [
        {
          "output_type": "stream",
          "name": "stdout",
          "text": [
            "Check the items:  {131001: {'Product_name': 'Rice', 'Quantity': 100, 'Price': 150, 'mfg': '1-1-2021', 'exp': '1-1-2023'}, 131002: {'Product_name': 'Cake', 'Quantity': 100, 'Price': 250, 'mfg': '1-1-2022', 'exp': '1-1-2023'}, 131003: {'Product_name': 'Card', 'Quantity': 100, 'Price': 50, 'mfg': '2-1-2021', 'exp': '1-1-2024'}, 131004: {'Product_name': 'Tea', 'Quantity': 100, 'Price': 130, 'mfg': '1-3-2021', 'exp': '1-1-2023'}, 131005: {'Product_name': 'Sugar', 'Quantity': 100, 'Price': 170, 'mfg': '4-1-2021', 'exp': '1-1-2023'}, 131006: {'Product_name': 'Wine', 'Quantity': 100, 'Price': 450, 'mfg': '1-5-2021', 'exp': '1-1-2023'}, 131007: {'Product_name': 'Horlicks', 'Quantity': 100, 'Price': 154, 'mfg': '12-1-2021', 'exp': '1-1-2027'}, 131008: {'Product_name': 'Coffee', 'Quantity': 100, 'Price': 250, 'mfg': '18-1-2021', 'exp': '1-1-2023'}, 131009: {'Product_name': 'Turmeric Powder', 'Quantity': 100, 'Price': 10, 'mfg': '10-1-2021', 'exp': '1-1-2023'}, 131010: {'Product_name': 'Milk', 'Quantity': 100, 'Price': 70, 'mfg': '1-10-2021', 'exp': '1-1-2024'}, 131011: {'Product_name': 'Liquid Soap', 'Quantity': 100, 'Price': 80, 'mfg': '14-1-2021', 'exp': '1-1-2023'}, 131012: {'Product_name': 'Dish Wash', 'Quantity': 100, 'Price': 30, 'mfg': '1-11-2021', 'exp': '1-1-2022'}, 131013: {'Product_name': 'Chocolates', 'Quantity': 100, 'Price': 140, 'mfg': '21-1-2021', 'exp': '1-1-2023'}, 131014: {'Product_name': 'Dal', 'Quantity': 100, 'Price': 90, 'mfg': '1-9-2021', 'exp': '1-1-2023'}, 131015: {'Product_name': 'Jerra', 'Quantity': 100, 'Price': 180, 'mfg': '13-1-2021', 'exp': '1-1-2025'}, 131016: {'Product_name': 'Chilly Flex', 'Quantity': 100, 'Price': 15, 'mfg': '19-1-2021', 'exp': '1-1-2028'}, 131017: {'Product_name': 'Peper', 'Quantity': 100, 'Price': 120, 'mfg': '1-10-2021', 'exp': '1-1-2023'}, 131018: {'Product_name': 'Pasta', 'Quantity': 100, 'Price': 170, 'mfg': '15-1-2021', 'exp': '1-1-2023'}, 131019: {'Product_name': 'Noddles', 'Quantity': 100, 'Price': 30, 'mfg': '21-1-2021', 'exp': '1-1-2023'}, 131020: {'Product_name': 'Oats', 'Quantity': 100, 'Price': 60, 'mfg': '31-1-2021', 'exp': '1-1-2023'}, 131021: {'Product_name': 'Soya Souce', 'Quantity': 100, 'Price': 65, 'mfg': '20-1-2021', 'exp': '1-1-2022'}, 131022: {'Product_name': 'Cashew', 'Quantity': 100, 'Price': 152, 'mfg': '16-1-2021', 'exp': '1-1-2023'}, 131023: {'Product_name': 'Almond', 'Quantity': 100, 'Price': 145, 'mfg': '14-1-2021', 'exp': '1-1-2023'}, 131024: {'Product_name': 'Wheat', 'Quantity': 100, 'Price': 158, 'mfg': '13-1-2021', 'exp': '1-1-2023'}, 131025: {'Product_name': 'Cumin', 'Quantity': 100, 'Price': 185, 'mfg': '15-1-2021', 'exp': '1-1-2025'}, 131026: {'Product_name': 'Jam', 'Quantity': 100, 'Price': 123, 'mfg': '17-1-2021', 'exp': '1-1-2025'}, 131027: {'Product_name': 'Burbon', 'Quantity': 100, 'Price': 145, 'mfg': '1-10-2021', 'exp': '1-1-2024'}, 131028: {'Product_name': 'Apple Juice', 'Quantity': 100, 'Price': 210, 'mfg': '12-1-2021', 'exp': '1-1-2023'}, 131029: {'Product_name': 'Butter', 'Quantity': 100, 'Price': 170, 'mfg': '1-10-2021', 'exp': '1-1-2024'}}\n",
            "_________________________________________________________________________________________\n",
            "Enter the product ID: 131004\n",
            "Enter the quantity: 10\n",
            "B I L L\n",
            "Product_name:  Tea\n",
            "Price:  130\n",
            "Quantity 10\n",
            "*****************************************\n",
            "*****************************************\n",
            "Total price:  1300\n"
          ]
        }
      ]
    },
    {
      "cell_type": "markdown",
      "metadata": {
        "id": "MJOmVSOzM8ja"
      },
      "source": [
        "# Update Inventory After Purchase"
      ]
    },
    {
      "cell_type": "code",
      "metadata": {
        "id": "N9ZaYc2eM6eL"
      },
      "source": [
        "js = json.dumps(record)\n",
        "\n",
        "fd = open(\"record.json\",'w')\n",
        "fd.write(js)\n",
        "fd.close()"
      ],
      "execution_count": 7,
      "outputs": []
    },
    {
      "cell_type": "code",
      "metadata": {
        "id": "oXrp9RFMNhz0"
      },
      "source": [
        "record[reg]['Quantity'] = record[reg]['Quantity']-qty"
      ],
      "execution_count": 8,
      "outputs": []
    },
    {
      "cell_type": "code",
      "metadata": {
        "colab": {
          "base_uri": "https://localhost:8080/"
        },
        "id": "hxwPyGVBNls7",
        "outputId": "63a19524-8dd8-445c-c25a-acf1408c7955"
      },
      "source": [
        "record"
      ],
      "execution_count": 9,
      "outputs": [
        {
          "output_type": "execute_result",
          "data": {
            "text/plain": [
              "{131001: {'Price': 150,\n",
              "  'Product_name': 'Rice',\n",
              "  'Quantity': 100,\n",
              "  'exp': '1-1-2023',\n",
              "  'mfg': '1-1-2021'},\n",
              " 131002: {'Price': 250,\n",
              "  'Product_name': 'Cake',\n",
              "  'Quantity': 100,\n",
              "  'exp': '1-1-2023',\n",
              "  'mfg': '1-1-2022'},\n",
              " 131003: {'Price': 50,\n",
              "  'Product_name': 'Card',\n",
              "  'Quantity': 100,\n",
              "  'exp': '1-1-2024',\n",
              "  'mfg': '2-1-2021'},\n",
              " 131004: {'Price': 130,\n",
              "  'Product_name': 'Tea',\n",
              "  'Quantity': 90,\n",
              "  'exp': '1-1-2023',\n",
              "  'mfg': '1-3-2021'},\n",
              " 131005: {'Price': 170,\n",
              "  'Product_name': 'Sugar',\n",
              "  'Quantity': 100,\n",
              "  'exp': '1-1-2023',\n",
              "  'mfg': '4-1-2021'},\n",
              " 131006: {'Price': 450,\n",
              "  'Product_name': 'Wine',\n",
              "  'Quantity': 100,\n",
              "  'exp': '1-1-2023',\n",
              "  'mfg': '1-5-2021'},\n",
              " 131007: {'Price': 154,\n",
              "  'Product_name': 'Horlicks',\n",
              "  'Quantity': 100,\n",
              "  'exp': '1-1-2027',\n",
              "  'mfg': '12-1-2021'},\n",
              " 131008: {'Price': 250,\n",
              "  'Product_name': 'Coffee',\n",
              "  'Quantity': 100,\n",
              "  'exp': '1-1-2023',\n",
              "  'mfg': '18-1-2021'},\n",
              " 131009: {'Price': 10,\n",
              "  'Product_name': 'Turmeric Powder',\n",
              "  'Quantity': 100,\n",
              "  'exp': '1-1-2023',\n",
              "  'mfg': '10-1-2021'},\n",
              " 131010: {'Price': 70,\n",
              "  'Product_name': 'Milk',\n",
              "  'Quantity': 100,\n",
              "  'exp': '1-1-2024',\n",
              "  'mfg': '1-10-2021'},\n",
              " 131011: {'Price': 80,\n",
              "  'Product_name': 'Liquid Soap',\n",
              "  'Quantity': 100,\n",
              "  'exp': '1-1-2023',\n",
              "  'mfg': '14-1-2021'},\n",
              " 131012: {'Price': 30,\n",
              "  'Product_name': 'Dish Wash',\n",
              "  'Quantity': 100,\n",
              "  'exp': '1-1-2022',\n",
              "  'mfg': '1-11-2021'},\n",
              " 131013: {'Price': 140,\n",
              "  'Product_name': 'Chocolates',\n",
              "  'Quantity': 100,\n",
              "  'exp': '1-1-2023',\n",
              "  'mfg': '21-1-2021'},\n",
              " 131014: {'Price': 90,\n",
              "  'Product_name': 'Dal',\n",
              "  'Quantity': 100,\n",
              "  'exp': '1-1-2023',\n",
              "  'mfg': '1-9-2021'},\n",
              " 131015: {'Price': 180,\n",
              "  'Product_name': 'Jerra',\n",
              "  'Quantity': 100,\n",
              "  'exp': '1-1-2025',\n",
              "  'mfg': '13-1-2021'},\n",
              " 131016: {'Price': 15,\n",
              "  'Product_name': 'Chilly Flex',\n",
              "  'Quantity': 100,\n",
              "  'exp': '1-1-2028',\n",
              "  'mfg': '19-1-2021'},\n",
              " 131017: {'Price': 120,\n",
              "  'Product_name': 'Peper',\n",
              "  'Quantity': 100,\n",
              "  'exp': '1-1-2023',\n",
              "  'mfg': '1-10-2021'},\n",
              " 131018: {'Price': 170,\n",
              "  'Product_name': 'Pasta',\n",
              "  'Quantity': 100,\n",
              "  'exp': '1-1-2023',\n",
              "  'mfg': '15-1-2021'},\n",
              " 131019: {'Price': 30,\n",
              "  'Product_name': 'Noddles',\n",
              "  'Quantity': 100,\n",
              "  'exp': '1-1-2023',\n",
              "  'mfg': '21-1-2021'},\n",
              " 131020: {'Price': 60,\n",
              "  'Product_name': 'Oats',\n",
              "  'Quantity': 100,\n",
              "  'exp': '1-1-2023',\n",
              "  'mfg': '31-1-2021'},\n",
              " 131021: {'Price': 65,\n",
              "  'Product_name': 'Soya Souce',\n",
              "  'Quantity': 100,\n",
              "  'exp': '1-1-2022',\n",
              "  'mfg': '20-1-2021'},\n",
              " 131022: {'Price': 152,\n",
              "  'Product_name': 'Cashew',\n",
              "  'Quantity': 100,\n",
              "  'exp': '1-1-2023',\n",
              "  'mfg': '16-1-2021'},\n",
              " 131023: {'Price': 145,\n",
              "  'Product_name': 'Almond',\n",
              "  'Quantity': 100,\n",
              "  'exp': '1-1-2023',\n",
              "  'mfg': '14-1-2021'},\n",
              " 131024: {'Price': 158,\n",
              "  'Product_name': 'Wheat',\n",
              "  'Quantity': 100,\n",
              "  'exp': '1-1-2023',\n",
              "  'mfg': '13-1-2021'},\n",
              " 131025: {'Price': 185,\n",
              "  'Product_name': 'Cumin',\n",
              "  'Quantity': 100,\n",
              "  'exp': '1-1-2025',\n",
              "  'mfg': '15-1-2021'},\n",
              " 131026: {'Price': 123,\n",
              "  'Product_name': 'Jam',\n",
              "  'Quantity': 100,\n",
              "  'exp': '1-1-2025',\n",
              "  'mfg': '17-1-2021'},\n",
              " 131027: {'Price': 145,\n",
              "  'Product_name': 'Burbon',\n",
              "  'Quantity': 100,\n",
              "  'exp': '1-1-2024',\n",
              "  'mfg': '1-10-2021'},\n",
              " 131028: {'Price': 210,\n",
              "  'Product_name': 'Apple Juice',\n",
              "  'Quantity': 100,\n",
              "  'exp': '1-1-2023',\n",
              "  'mfg': '12-1-2021'},\n",
              " 131029: {'Price': 170,\n",
              "  'Product_name': 'Butter',\n",
              "  'Quantity': 100,\n",
              "  'exp': '1-1-2024',\n",
              "  'mfg': '1-10-2021'}}"
            ]
          },
          "metadata": {},
          "execution_count": 9
        }
      ]
    },
    {
      "cell_type": "markdown",
      "metadata": {
        "id": "6KyH4jyzNvaO"
      },
      "source": [
        "# Read Data From JSON\n"
      ]
    },
    {
      "cell_type": "code",
      "metadata": {
        "id": "BMHd5hyQN2Jf"
      },
      "source": [
        "fd = open(\"record.json\",'r')\n",
        "txt = fd.read()\n",
        "fd.close()\n",
        "\n",
        "record = json.loads(txt)"
      ],
      "execution_count": 10,
      "outputs": []
    },
    {
      "cell_type": "markdown",
      "metadata": {
        "id": "tTxGJikcOBHM"
      },
      "source": [
        "# Add new item to the inventory"
      ]
    },
    {
      "cell_type": "code",
      "metadata": {
        "colab": {
          "base_uri": "https://localhost:8080/"
        },
        "id": "9RLuZW2LOIob",
        "outputId": "24d323e5-a378-412d-e4f8-7bcc4d22ceb4"
      },
      "source": [
        "prod_id = input(\"Enter product id:\")\n",
        "name = input(\"Enter name:\")\n",
        "pr = int(input(\"Enter price:\"))\n",
        "qn = int(input(\"Enter quantity:\"))\n",
        "mfg = input(\"Enter manufacturing date: \")\n",
        "ub = input(\"Enter expiry date: \")\n",
        "\n",
        "record[prod_id] = {'Product_name': name, 'Price': pr, 'Quantity': qn, 'mfg': mfg, 'exp': ub}\n",
        "\n",
        "js = json.dumps(record)\n",
        "\n",
        "fd = open(\"record.json\",'w')\n",
        "fd.write(js)\n",
        "fd.close()"
      ],
      "execution_count": 11,
      "outputs": [
        {
          "name": "stdout",
          "output_type": "stream",
          "text": [
            "Enter product id:131030\n",
            "Enter name:Lays\n",
            "Enter price:50\n",
            "Enter quantity:200\n",
            "Enter manufacturing date: 2-1-2021\n",
            "Enter expiry date: 2-2-2022\n"
          ]
        }
      ]
    },
    {
      "cell_type": "code",
      "metadata": {
        "colab": {
          "base_uri": "https://localhost:8080/"
        },
        "id": "TKMb8nsTO5Q0",
        "outputId": "456e4c1f-28ed-4ad4-e27a-de592c0a5043"
      },
      "source": [
        "record"
      ],
      "execution_count": 12,
      "outputs": [
        {
          "output_type": "execute_result",
          "data": {
            "text/plain": [
              "{'131001': {'Price': 150,\n",
              "  'Product_name': 'Rice',\n",
              "  'Quantity': 100,\n",
              "  'exp': '1-1-2023',\n",
              "  'mfg': '1-1-2021'},\n",
              " '131002': {'Price': 250,\n",
              "  'Product_name': 'Cake',\n",
              "  'Quantity': 100,\n",
              "  'exp': '1-1-2023',\n",
              "  'mfg': '1-1-2022'},\n",
              " '131003': {'Price': 50,\n",
              "  'Product_name': 'Card',\n",
              "  'Quantity': 100,\n",
              "  'exp': '1-1-2024',\n",
              "  'mfg': '2-1-2021'},\n",
              " '131004': {'Price': 130,\n",
              "  'Product_name': 'Tea',\n",
              "  'Quantity': 100,\n",
              "  'exp': '1-1-2023',\n",
              "  'mfg': '1-3-2021'},\n",
              " '131005': {'Price': 170,\n",
              "  'Product_name': 'Sugar',\n",
              "  'Quantity': 100,\n",
              "  'exp': '1-1-2023',\n",
              "  'mfg': '4-1-2021'},\n",
              " '131006': {'Price': 450,\n",
              "  'Product_name': 'Wine',\n",
              "  'Quantity': 100,\n",
              "  'exp': '1-1-2023',\n",
              "  'mfg': '1-5-2021'},\n",
              " '131007': {'Price': 154,\n",
              "  'Product_name': 'Horlicks',\n",
              "  'Quantity': 100,\n",
              "  'exp': '1-1-2027',\n",
              "  'mfg': '12-1-2021'},\n",
              " '131008': {'Price': 250,\n",
              "  'Product_name': 'Coffee',\n",
              "  'Quantity': 100,\n",
              "  'exp': '1-1-2023',\n",
              "  'mfg': '18-1-2021'},\n",
              " '131009': {'Price': 10,\n",
              "  'Product_name': 'Turmeric Powder',\n",
              "  'Quantity': 100,\n",
              "  'exp': '1-1-2023',\n",
              "  'mfg': '10-1-2021'},\n",
              " '131010': {'Price': 70,\n",
              "  'Product_name': 'Milk',\n",
              "  'Quantity': 100,\n",
              "  'exp': '1-1-2024',\n",
              "  'mfg': '1-10-2021'},\n",
              " '131011': {'Price': 80,\n",
              "  'Product_name': 'Liquid Soap',\n",
              "  'Quantity': 100,\n",
              "  'exp': '1-1-2023',\n",
              "  'mfg': '14-1-2021'},\n",
              " '131012': {'Price': 30,\n",
              "  'Product_name': 'Dish Wash',\n",
              "  'Quantity': 100,\n",
              "  'exp': '1-1-2022',\n",
              "  'mfg': '1-11-2021'},\n",
              " '131013': {'Price': 140,\n",
              "  'Product_name': 'Chocolates',\n",
              "  'Quantity': 100,\n",
              "  'exp': '1-1-2023',\n",
              "  'mfg': '21-1-2021'},\n",
              " '131014': {'Price': 90,\n",
              "  'Product_name': 'Dal',\n",
              "  'Quantity': 100,\n",
              "  'exp': '1-1-2023',\n",
              "  'mfg': '1-9-2021'},\n",
              " '131015': {'Price': 180,\n",
              "  'Product_name': 'Jerra',\n",
              "  'Quantity': 100,\n",
              "  'exp': '1-1-2025',\n",
              "  'mfg': '13-1-2021'},\n",
              " '131016': {'Price': 15,\n",
              "  'Product_name': 'Chilly Flex',\n",
              "  'Quantity': 100,\n",
              "  'exp': '1-1-2028',\n",
              "  'mfg': '19-1-2021'},\n",
              " '131017': {'Price': 120,\n",
              "  'Product_name': 'Peper',\n",
              "  'Quantity': 100,\n",
              "  'exp': '1-1-2023',\n",
              "  'mfg': '1-10-2021'},\n",
              " '131018': {'Price': 170,\n",
              "  'Product_name': 'Pasta',\n",
              "  'Quantity': 100,\n",
              "  'exp': '1-1-2023',\n",
              "  'mfg': '15-1-2021'},\n",
              " '131019': {'Price': 30,\n",
              "  'Product_name': 'Noddles',\n",
              "  'Quantity': 100,\n",
              "  'exp': '1-1-2023',\n",
              "  'mfg': '21-1-2021'},\n",
              " '131020': {'Price': 60,\n",
              "  'Product_name': 'Oats',\n",
              "  'Quantity': 100,\n",
              "  'exp': '1-1-2023',\n",
              "  'mfg': '31-1-2021'},\n",
              " '131021': {'Price': 65,\n",
              "  'Product_name': 'Soya Souce',\n",
              "  'Quantity': 100,\n",
              "  'exp': '1-1-2022',\n",
              "  'mfg': '20-1-2021'},\n",
              " '131022': {'Price': 152,\n",
              "  'Product_name': 'Cashew',\n",
              "  'Quantity': 100,\n",
              "  'exp': '1-1-2023',\n",
              "  'mfg': '16-1-2021'},\n",
              " '131023': {'Price': 145,\n",
              "  'Product_name': 'Almond',\n",
              "  'Quantity': 100,\n",
              "  'exp': '1-1-2023',\n",
              "  'mfg': '14-1-2021'},\n",
              " '131024': {'Price': 158,\n",
              "  'Product_name': 'Wheat',\n",
              "  'Quantity': 100,\n",
              "  'exp': '1-1-2023',\n",
              "  'mfg': '13-1-2021'},\n",
              " '131025': {'Price': 185,\n",
              "  'Product_name': 'Cumin',\n",
              "  'Quantity': 100,\n",
              "  'exp': '1-1-2025',\n",
              "  'mfg': '15-1-2021'},\n",
              " '131026': {'Price': 123,\n",
              "  'Product_name': 'Jam',\n",
              "  'Quantity': 100,\n",
              "  'exp': '1-1-2025',\n",
              "  'mfg': '17-1-2021'},\n",
              " '131027': {'Price': 145,\n",
              "  'Product_name': 'Burbon',\n",
              "  'Quantity': 100,\n",
              "  'exp': '1-1-2024',\n",
              "  'mfg': '1-10-2021'},\n",
              " '131028': {'Price': 210,\n",
              "  'Product_name': 'Apple Juice',\n",
              "  'Quantity': 100,\n",
              "  'exp': '1-1-2023',\n",
              "  'mfg': '12-1-2021'},\n",
              " '131029': {'Price': 170,\n",
              "  'Product_name': 'Butter',\n",
              "  'Quantity': 100,\n",
              "  'exp': '1-1-2024',\n",
              "  'mfg': '1-10-2021'},\n",
              " '131030': {'Price': 50,\n",
              "  'Product_name': 'Lays',\n",
              "  'Quantity': 200,\n",
              "  'exp': '2-2-2022',\n",
              "  'mfg': '2-1-2021'}}"
            ]
          },
          "metadata": {},
          "execution_count": 12
        }
      ]
    },
    {
      "cell_type": "markdown",
      "metadata": {
        "id": "rihg1NjjLi97"
      },
      "source": [
        ""
      ]
    }
  ]
}